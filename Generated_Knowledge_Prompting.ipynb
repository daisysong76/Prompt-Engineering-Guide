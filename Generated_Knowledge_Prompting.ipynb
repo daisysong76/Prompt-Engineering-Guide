{
  "nbformat": 4,
  "nbformat_minor": 0,
  "metadata": {
    "colab": {
      "provenance": [],
      "authorship_tag": "ABX9TyM2EGqxEuoXvd9D8Nmu/w0h",
      "include_colab_link": true
    },
    "kernelspec": {
      "name": "python3",
      "display_name": "Python 3"
    },
    "language_info": {
      "name": "python"
    }
  },
  "cells": [
    {
      "cell_type": "markdown",
      "metadata": {
        "id": "view-in-github",
        "colab_type": "text"
      },
      "source": [
        "<a href=\"https://colab.research.google.com/github/daisysong76/Prompt-Engineering-Guide/blob/main/Generated_Knowledge_Prompting.ipynb\" target=\"_parent\"><img src=\"https://colab.research.google.com/assets/colab-badge.svg\" alt=\"Open In Colab\"/></a>"
      ]
    },
    {
      "cell_type": "code",
      "execution_count": null,
      "metadata": {
        "id": "0yBjKZhTd7_x"
      },
      "outputs": [],
      "source": []
    },
    {
      "cell_type": "markdown",
      "source": [
        "## What is Generated Knowledge Prompting?\n",
        "\n",
        "**Generated Knowledge Prompting** is a prompt engineering technique where a large language model (LLM) is first prompted to generate relevant background knowledge or facts about a topic, and then this generated knowledge is incorporated into the prompt for the main task or question[1][2][3][4][5]. The process can be done in two steps (dual prompts) or combined into a single prompt. The goal is to help the model build a richer context before producing its final answer, leading to more accurate, nuanced, and informed outputs.\n",
        "\n",
        "### Why is Generated Knowledge Prompting Needed?\n",
        "\n",
        "- **Enhanced Accuracy:** By generating and integrating relevant knowledge, the model’s responses become more precise and contextually relevant, especially for complex or multi-faceted questions[1][6][2][3].\n",
        "- **Deeper Understanding:** It enables the LLM to explore the underlying context, causes, or background before answering, which is particularly valuable for reasoning, explanation, or educational tasks[6][3].\n",
        "- **Adaptability:** The method helps the model adapt to new or unfamiliar problems by building a tailored knowledge base on-the-fly, without requiring retraining[1][7].\n",
        "- **Error Reduction:** It mitigates mistakes that can arise from missing background information or misinterpreting the question[3].\n",
        "- **Versatility:** Useful across domains—fact-checking, technical support, historical analysis, content creation, and more[3][4].\n",
        "\n",
        "### How Does It Work?\n",
        "\n",
        "1. **Knowledge Generation:** The LLM is prompted to summarize or list key facts, principles, or background information about the topic or question.\n",
        "2. **Task Execution:** The model then uses this generated knowledge as context to answer the specific question or perform the task[1][2][3][4][5].\n",
        "\n",
        "This can be done with:\n",
        "- **Dual prompts:** Separate prompts for knowledge generation and answering.\n",
        "- **Single prompt:** Both steps combined, often with explicit instructions.\n",
        "\n",
        "## Cutting-Edge Examples (2024–2025)\n",
        "\n",
        "**1. Commonsense Reasoning Benchmarks**\n",
        "- *Paper Example:* In the original 2022 paper, generated knowledge prompting set new state-of-the-art results on commonsense reasoning tasks by first generating knowledge statements for each question, then using those statements to guide the answer[8][9].\n",
        "- *How:* The model is shown a few examples of question-knowledge pairs, then asked to generate knowledge for new questions, which is then used to answer multiple-choice or open-ended queries.\n",
        "\n",
        "**2. Historical Analysis**\n",
        "- *Example Prompt:*\n",
        "  - Step 1: “Summarize key facts about the Renaissance era.”\n",
        "  - Step 2: “Why did the Renaissance begin in Italy?”\n",
        "  - The model first generates background, then uses it to answer, producing richer, more contextual explanations[3].\n",
        "\n",
        "**3. Technical Explanations**\n",
        "- *Example:* Before explaining a complex process (e.g., how a blockchain works), the model is prompted to list foundational concepts or recent developments, then uses these to craft a detailed, accurate explanation[4].\n",
        "\n",
        "**4. Business and Decision-Making**\n",
        "- *Example:* For a business analysis, the LLM is first asked to generate relevant market trends or risk factors, then uses that knowledge to recommend strategies or solutions[4][5].\n",
        "\n",
        "**5. Educational Content Generation**\n",
        "- *Example:* When writing a blog post about Labradors, the model is first prompted to generate four facts about Labradors, then uses these facts to compose the post, ensuring the content is factual and comprehensive[5].\n",
        "\n",
        "## Summary Table\n",
        "\n",
        "| Step                | Description                                                                 |\n",
        "|---------------------|-----------------------------------------------------------------------------|\n",
        "| Knowledge Generation| LLM generates relevant background facts or principles about the topic        |\n",
        "| Task Execution      | LLM uses this generated knowledge to answer the main question or task        |\n",
        "\n",
        "## Why It’s Cutting-Edge\n",
        "\n",
        "- **State-of-the-art Performance:** Generated knowledge prompting has set new benchmarks on reasoning and QA tasks, outperforming traditional and chain-of-thought prompting in many cases[8][9].\n",
        "- **Broad Applicability:** Used in research, education, business, and technical domains for deeper, more reliable AI outputs[3][4].\n",
        "- **Frameworks & Tools:** The approach is now being integrated into prompt frameworks and advanced AI platforms, often combined with self-consistency or analogical prompting for even greater accuracy[10][4].\n",
        "\n",
        "## Example Prompt (2025 Style)\n",
        "\n",
        "```markdown\n",
        "Step 1: Generate 3 key facts about quantum computing.\n",
        "Step 2: Using these facts, explain why quantum computing is important for cryptography.\n",
        "```\n",
        "\n",
        "**Output:**\n",
        "- Fact 1: Quantum computers use qubits, which can represent both 0 and 1 simultaneously.\n",
        "- Fact 2: Quantum algorithms, like Shor’s algorithm, can factor large numbers exponentially faster than classical algorithms.\n",
        "- Fact 3: Current cryptographic systems rely on the difficulty of factoring large numbers.\n",
        "\n",
        "**Final Answer:**  \n",
        "Quantum computing is important for cryptography because its unique ability to process information using qubits enables algorithms like Shor’s, which can break widely used encryption methods by factoring large numbers much faster than classical computers.\n",
        "\n",
        "**In summary:**  \n",
        "Generated Knowledge Prompting is a two-step (or single integrated step) prompt engineering method that enhances LLM performance by first generating relevant knowledge and then leveraging it for more accurate, context-rich answers. It is now a core technique in advanced AI prompting frameworks, powering state-of-the-art results in reasoning, education, business, and technical domains[1][6][8][3][4][5].\n",
        "\n",
        "Sources\n",
        "[1] Generated Knowledge Prompting - PromptHub https://www.prompthub.us/blog/generated-knowledge-prompting\n",
        "[2] Generated Knowledge in Prompts: Boosting AI Accuracy and ... https://learnprompting.org/docs/intermediate/generated_knowledge\n",
        "[3] Generated Knowledge Prompting: Building Context for Precision https://prompton.wordpress.com/2025/04/17/%F0%9F%93%9A-generated-knowledge-prompting-building-context-for-precision/\n",
        "[4] Generated Knowledge Prompting https://docs.meingpt.com/en/prompting/13-techniques-knowledge-generation\n",
        "[5] Enhancing Response Depth through Generated Knowledge ... https://www.codefriends.net/courses/ai-prompt-engineering-basics/chapter-2/generated-knowledge\n",
        "[6] AI Prompting Style Series: Generated Knowledge Prompting - IT Blog https://itblog.ldlnet.net/index.php/2024/10/28/ai-prompting-style-series-generated-knowledge-prompting/\n",
        "[7] Unlocking the Potential of Generated Knowledge Prompting in AI https://www.linkedin.com/pulse/unlocking-potential-generated-knowledge-prompting-ai-knboc\n",
        "[8] [PDF] Generated Knowledge Prompting for Commonsense Reasoning https://liujch1998.github.io/assets/papers/GKP_v8.pdf\n",
        "[9] [PDF] arXiv:2110.08387v3 [cs.CL] 28 Sep 2022 https://arxiv.org/pdf/2110.08387.pdf\n",
        "[10] Prompt Frameworks 2025 Explained: What Works and Why https://www.encodedots.com/blog/prompt-frameworks-2025/\n",
        "[11] What is Generated Knowledge Prompting? - Digital Adoption https://www.digital-adoption.com/generated-knowledge-prompting/\n",
        "[12] Generated Knowledge Prompting - Prompt Engineering Guide https://www.promptingguide.ai/techniques/knowledge\n",
        "[13] How Generated Knowledge Prompting can help reduce hallucinations https://www.youtube.com/watch?v=kgUnRoIpai0\n",
        "[14] Prompt Engineering: Techniques, Applications, and Benefits https://www.spiceworks.com/tech/artificial-intelligence/articles/what-is-prompt-engineering/\n",
        "[15] Advanced Prompt Engineering Techniques for 2025: Beyond Basic ... https://www.reddit.com/r/PromptEngineering/comments/1k7jrt7/advanced_prompt_engineering_techniques_for_2025/\n",
        "[16] Modern Advances in Prompt Engineering - Deep (Learning) Focus https://cameronrwolfe.substack.com/p/modern-advances-in-prompt-engineering\n",
        "[17] Utilizing Generated Knowledge Prompting in AI Applications - Scout https://www.scoutos.com/blog/utilizing-generated-knowledge-prompting-in-ai-applications\n",
        "[18] Generated Knowledge | GenAIScript https://microsoft.github.io/genaiscript/guides/generated-knowledge/\n"
      ],
      "metadata": {
        "id": "IUlSMmDkd9IQ"
      }
    }
  ]
}